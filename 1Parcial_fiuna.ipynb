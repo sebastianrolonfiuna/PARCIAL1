{
  "nbformat": 4,
  "nbformat_minor": 0,
  "metadata": {
    "colab": {
      "provenance": [],
      "authorship_tag": "ABX9TyPPxDxlrCo1EwbzxjbZbapL",
      "include_colab_link": true
    },
    "kernelspec": {
      "name": "python3",
      "display_name": "Python 3"
    },
    "language_info": {
      "name": "python"
    }
  },
  "cells": [
    {
      "cell_type": "markdown",
      "metadata": {
        "id": "view-in-github",
        "colab_type": "text"
      },
      "source": [
        "<a href=\"https://colab.research.google.com/github/sebastianrolonfiuna/PARCIAL1/blob/main/1Parcial_fiuna.ipynb\" target=\"_parent\"><img src=\"https://colab.research.google.com/assets/colab-badge.svg\" alt=\"Open In Colab\"/></a>"
      ]
    },
    {
      "cell_type": "code",
      "source": [
        "import pandas as pd\n",
        "import numpy as np\n",
        "import matplotlib.pyplot as plt\n",
        "\n",
        "\n",
        "# Función para calcular los coeficientes de regresión manualmente\n",
        "def regresion_manual(X, y, alpha=1e-6):\n",
        "    # Agregar una columna de unos para el término independiente\n",
        "    X = np.column_stack((np.ones(len(X)), X))\n",
        "\n",
        "    # Calcular los coeficientes utilizando la fórmula de la pseudo inversa con regularización de Ridge\n",
        "    n_features = X.shape[1]\n",
        "    reg_term = alpha * np.eye(n_features)\n",
        "    coeficientes = np.linalg.inv(X.T @ X + reg_term) @ X.T @ y\n",
        "\n",
        "    return coeficientes\n",
        "\n",
        "\n",
        "\n",
        "\n",
        "# Función para predecir los valores de y\n",
        "def predecir(X, coeficientes):\n",
        "    Xm = np.column_stack((np.ones(len(X)), X))\n",
        "    return Xm @ coeficientes\n",
        "\n",
        "# Calcular métricas de evaluación manualmente\n",
        "def rmse(y_true, y_pred):\n",
        "    error = y_true - y_pred\n",
        "    return np.sqrt(np.mean(error ** 2))\n",
        "\n",
        "def r2F(y_true, y_pred):\n",
        "    numerador = ((y_true - y_pred) ** 2).sum()\n",
        "    denominador = ((y_true - y_true.mean()) ** 2).sum()\n",
        "    return 1 - (numerador / denominador)\n",
        "\n",
        "# Función para ajustar el modelo y evaluarlo\n",
        "def ajustar_evaluar_modelo(X, y):\n",
        "    coeficientes = regresion_manual(X, y)\n",
        "    y_pred = predecir(X, coeficientes)\n",
        "    r2_ = r2F(y, y_pred)\n",
        "    rmse_val = rmse(y, y_pred)\n",
        "    return coeficientes, y_pred, r2_, rmse_val\n",
        "\n",
        "opcion = int(input())\n",
        "# Cargar los datos\n",
        "data = pd.read_csv('Mediciones.csv')\n",
        "data = data.dropna()\n",
        "\n",
        "# Definir las columnas de características (X) y la columna de objetivo (y)\n",
        "if opcion == 1:\n",
        "    print( '(',len(data),',',len(data.columns),')')\n",
        "\n",
        "\n",
        "    caracteristicas = ['VTI_F','PEEP','BPM','VTE_F']  # Seleccionar las características\n",
        "    objetivo = 'Pasos'  # Seleccionar el objetivo\n",
        "\n",
        "    print(caracteristicas)\n",
        "    print(objetivo)\n",
        "\n",
        "elif opcion == 2:\n",
        "    X = data[['VTI_F']]\n",
        "    y = data['Pasos']\n",
        "    coef = regresion_manual(X, y)\n",
        "    print(coef)\n",
        "\n",
        "elif opcion == 3:\n",
        "    X = data[['VTI_F']]\n",
        "    y = data['Pasos']\n",
        "    coef = regresion_manual(X, y)\n",
        "    y_pred = predecir(X, coef)\n",
        "    r2_ = r2F(y, y_pred)\n",
        "    rmse_val = rmse(y, y_pred)\n",
        "    print(coef)\n",
        "    print(y[:3])\n",
        "    print(y_pred[:3])\n",
        "    print(r2_,rmse_val)\n",
        "\n",
        "\n",
        "elif opcion == 4:\n",
        "    X_todo = data[['VTI_F']]\n",
        "    y = data['Pasos']\n",
        "    coeficientes_todo, y_pred_todo, r2_todo, rmse_todo = ajustar_evaluar_modelo(X_todo, y)\n",
        "    print(\"R2:\", r2_todo)\n",
        "    print(\"RMSE:\", rmse_todo)\n",
        "\n",
        "elif opcion == 5:\n",
        "    models = {\n",
        "        'Modelo_1': ['VTI_F'],\n",
        "        'Modelo_2': ['VTI_F', 'BPM']\n",
        "\n",
        "    }\n",
        "    for nombre_modelo, lista_caracteristicas in models.items():\n",
        "        X = data[lista_caracteristicas]\n",
        "        y = data['Pasos']\n",
        "        coeficientes, y_pred, r2, rmse_val = ajustar_evaluar_modelo(X, y)\n",
        "        print(nombre_modelo, \"R2:\", r2, \"RMSE:\", rmse_val)\n",
        "\n",
        "elif opcion == 6:\n",
        "    valores_peep_unicos = data['PEEP'].unique()\n",
        "    valores_bpm_unicos = data['BPM'].unique()\n",
        "    print(\"Valores únicos de PEEP:\", valores_peep_unicos)\n",
        "    print(\"Valores únicos de BPM:\", valores_bpm_unicos)\n",
        "\n",
        "    predicciones_totales = []\n",
        "    for peep in valores_peep_unicos:\n",
        "        for bpm in valores_bpm_unicos:\n",
        "            datos_subset = data[(data['PEEP'] == peep) & (data['BPM'] == bpm)]\n",
        "            X_subset = datos_subset[['VTI_F']]\n",
        "            y_subset = datos_subset['Pasos']\n",
        "            coeficientes_subset, y_pred_subset, r2_subset, rmse_subset = ajustar_evaluar_modelo(X_subset, y_subset)\n",
        "            print(\"PEEP:\", peep, \"BPM:\", bpm, \"R2:\", r2_subset, \"RMSE:\", rmse_subset)\n",
        "            predicciones_totales.append(y_pred_subset)\n",
        "\n",
        "    predicciones_concatenadas = np.concatenate(predicciones_totales)\n",
        "    y = data['Pasos']\n",
        "\n",
        "    r2_global = r2F(y, predicciones_concatenadas)\n",
        "    rmse_global = rmse(y, predicciones_concatenadas)\n",
        "    print('Global', \"R2:\", r2_global, \"RMSE:\", rmse_global)\n",
        "\n",
        "   # Encontrar coeficientes del modelo para el conjunto completo de datos\n",
        "X_todo = data[['VTI_F']]\n",
        "y_todo = data['Pasos']\n",
        "coeficientes_todo, _, _, _ = ajustar_evaluar_modelo(X_todo, y_todo)\n",
        "\n",
        "# Predecir los valores de salida para las características de entrada\n",
        "y_pred_todo = predecir(X_todo, coeficientes_todo)\n",
        "\n",
        "# Graficar valores reales vs. predicciones\n",
        "\n",
        "plt.scatter(X_todo, y_todo, color='blue')\n",
        "plt.plot(X_todo, y_pred_todo, color='red')\n",
        "plt.xlabel('VTI_F')\n",
        "plt.ylabel('Pasos')\n",
        "plt.legend()\n",
        "plt.grid(True)\n",
        "plt.show()\n",
        "\n",
        "\n"
      ],
      "metadata": {
        "colab": {
          "base_uri": "https://localhost:8080/",
          "height": 625
        },
        "id": "wmD4cqU_sqCn",
        "outputId": "d11addd2-7b6f-49c9-af73-875b14664427"
      },
      "execution_count": 70,
      "outputs": [
        {
          "name": "stdout",
          "output_type": "stream",
          "text": [
            "6\n"
          ]
        },
        {
          "output_type": "stream",
          "name": "stderr",
          "text": [
            "WARNING:matplotlib.legend:No artists with labels found to put in legend.  Note that artists whose label start with an underscore are ignored when legend() is called with no argument.\n"
          ]
        },
        {
          "output_type": "stream",
          "name": "stdout",
          "text": [
            "Valores únicos de PEEP: [ 0. 10.]\n",
            "Valores únicos de BPM: [12. 20.]\n",
            "PEEP: 0.0 BPM: 12.0 R2: 0.9975786045097723 RMSE: 224.3313246558283\n",
            "PEEP: 0.0 BPM: 20.0 R2: 0.9970035350944404 RMSE: 249.5523443189021\n",
            "PEEP: 10.0 BPM: 12.0 R2: 0.9981629787961455 RMSE: 195.39531247654836\n",
            "PEEP: 10.0 BPM: 20.0 R2: 0.9984773587280938 RMSE: 177.89176942090614\n",
            "Global R2: 0.997805619282113 RMSE: 213.55662337095012\n"
          ]
        },
        {
          "output_type": "display_data",
          "data": {
            "text/plain": [
              "<Figure size 640x480 with 1 Axes>"
            ],
            "image/png": "[encoded data removed]"
          },
          "metadata": {}
        }
      ]
    },
    {
      "cell_type": "code",
      "source": [
        "X['VTI_F'].head()"
      ],
      "metadata": {
        "colab": {
          "base_uri": "https://localhost:8080/"
        },
        "id": "YBTuJ3CbMe17",
        "outputId": "2ca7b507-a442-408b-d9d3-f39743d2d682"
      },
      "execution_count": 61,
      "outputs": [
        {
          "output_type": "execute_result",
          "data": {
            "text/plain": [
              "0    226.0\n",
              "1    291.0\n",
              "2    363.0\n",
              "3    440.0\n",
              "4    524.0\n",
              "Name: VTI_F, dtype: float64"
            ]
          },
          "metadata": {},
          "execution_count": 61
        }
      ]
    },
    {
      "cell_type": "code",
      "source": [
        "import pandas as pd\n",
        "import numpy as np\n",
        "\n",
        "# Función para calcular los coeficientes de regresión manualmente\n",
        "def regresion_manual(X, y):\n",
        "    # Agregar una columna de unos para el término independiente\n",
        "#    X = Completar\n",
        "\n",
        "    # Calcular los coeficientes utilizando la fórmula de la pseudo inversa\n",
        "#    coeficientes =\n",
        "\n",
        "    return coeficientes\n",
        "\n",
        "# Función para predecir los valores de y\n",
        "def predecir(X, coeficientes):\n",
        "   # Xm = # completar con lo mismo de la linea 7\n",
        "\n",
        "    return  Xm@coeficientes\n",
        "\n",
        "# Calcular métricas de evaluación manualmente\n",
        "def rmse(y_true, y_pred):\n",
        "    #error=\n",
        "    return np.sqrt(np.mean((error) ** 2))\n",
        "\n",
        "def r2F(y_true, y_pred):\n",
        "   # https://es.wikipedia.org/wiki/Coeficiente_de_determinaci%C3%B3n\n",
        "\n",
        "#    numerador = ((completar).sum()\n",
        "    denominador = ((y_true - y_true.mean()) ** 2).sum()\n",
        "    return 1 - (numerador / denominador)\n",
        "\n",
        "# Función para ajustar el modelo y evaluarlo\n",
        "def ajustar_evaluar_modelo(X, y):\n",
        "    coeficientes = regresion_manual(X, y)\n",
        "    y_pred = predecir(X, coeficientes)\n",
        "    r2_ =[]#completar\n",
        "    rmse_val = []#completar\n",
        "    return coeficientes, y_pred, r2_, rmse_val\n",
        "\n",
        "\n",
        "opcion=int(input())\n",
        "# Cargar los datos\n",
        "data = pd.read_csv('Mediciones.csv')\n",
        "\n",
        "# Definir las columnas de características (X) y la columna de objetivo (y)\n",
        "if opcion==1:\n",
        "    #imprimir numero de filas y numero de columnas\n",
        "\n",
        "\n",
        "    #seleccionar las caracteristicas(variables dependientes) y el objetivo\n",
        "    caracteristicas =[] #[completar]\n",
        "    objetivo =[] #\n",
        "\n",
        "    print(caracteristicas)\n",
        "    print(objetivo)\n",
        "elif opcion==2:\n",
        "    # modelo completo solo con VTI_F, completar la funcion regresion manual\n",
        "\n",
        "    #X = data[completar]\n",
        "    #y = data[completar]\n",
        "    coef =[]# regresion_manual(X, y)\n",
        "    print(coef)\n",
        "elif opcion==3:\n",
        "    # modelo completo solo con VTI_F, completar las funciones que definen las métricas\n",
        "    #X = data[completar]\n",
        "    #y = data[completar]\n",
        "    coef = regresion_manual(X, y)\n",
        "    print( coef)\n",
        "    y_pred = predecir(X,coef)\n",
        "    r2_ = r2F(y, y_pred)\n",
        "    rmse_val = rmse(y, y_pred)\n",
        "    # imprimir los primeros 2 elementos de y e y_pred\n",
        "    #  print(y[:3],  y_pred [COMPLETAR])\n",
        "    print(y[:3],  y_pred [COMPLETAR])\n",
        "    # imprimir r2 y rmse\n",
        "    print(r2_,  rmse_val )\n",
        "elif opcion==4:\n",
        "    # modelo completo solo con VTI_F, completar la función ajustar_evaluar_modelo\n",
        "    X_todo =[]  #data[completar]\n",
        "    y =[] # data[completar]\n",
        "    coeficientes_todo, y_pred_todo, r2_todo, rmse_todo = ajustar_evaluar_modelo(X_todo, y)\n",
        "    print(r2_todo, rmse_todo)\n",
        "elif opcion==5:\n",
        "   # Completar la combinaciones de características de los modelos solicitados\n",
        "    models = {\n",
        "        'Modelo_1': ['VTI_F'],\n",
        "        'Modelo_2': ['VTI_F', 'BPM']\n",
        "      #COMPLETAR EL DICCIONARIO\n",
        "    }\n",
        "    for nombre_modelo, lista_caracteristicas in models.items():\n",
        "        X = []#data[completar]\n",
        "        y = data['Pasos']\n",
        "        coeficientes, y_pred, r2, rmse_val = ajustar_evaluar_modelo(X, y)\n",
        "        print(nombre_modelo,r2, rmse_val)\n",
        "elif opcion==6:\n",
        "    # Modelos para cada combinación de PEEP y BPM\n",
        "    valores_peep_unicos = []#completar sugerencia, utilizar unique()\n",
        "    valores_bpm_unicos = [] #completar\n",
        "    print(valores_peep_unicos)\n",
        "    print(valores_bpm_unicos)\n",
        "    predicciones_totales = []\n",
        "    for peep in valores_peep_unicos:\n",
        "        for bpm in valores_bpm_unicos:\n",
        "\n",
        "\n",
        "\n",
        "            datos_subset = data #completar el filtrado de datos, se deben filtrar los datos para cada para par de PEEP y BPM\n",
        "\n",
        "\n",
        "            X_subset = datos_subset[['VTI_F']]\n",
        "            y_subset = datos_subset['Pasos']\n",
        "            coeficientes_subset, y_pred_subset, r2_subset, rmse_subset = ajustar_evaluar_modelo(X_subset, y_subset)\n",
        "            print(peep, bpm, r2_subset, rmse_subset)\n",
        "            predicciones_totales.append(y_pred_subset)\n",
        "    predicciones_concatenadas = np.concatenate(predicciones_totales)\n",
        "    y=data['Pasos']\n",
        "    r2_global = r2F(y, predicciones_concatenadas)\n",
        "    rmse_global = rmse(y, predicciones_concatenadas)\n",
        "    print('Global', r2_global, rmse_global)"
      ],
      "metadata": {
        "colab": {
          "base_uri": "https://localhost:8080/",
          "height": 349
        },
        "id": "u5BQZOstvULh",
        "outputId": "5c02ab78-e517-42c4-ffc2-ae21bbedabab"
      },
      "execution_count": null,
      "outputs": [
        {
          "name": "stdout",
          "output_type": "stream",
          "text": [
            "3\n"
          ]
        },
        {
          "output_type": "error",
          "ename": "NameError",
          "evalue": "name 'coeficientes' is not defined",
          "traceback": [
            "\u001b[0;31m---------------------------------------------------------------------------\u001b[0m",
            "\u001b[0;31mNameError\u001b[0m                                 Traceback (most recent call last)",
            "\u001b[0;32m<ipython-input-13-84e19aa3f0bb>\u001b[0m in \u001b[0;36m<cell line: 46>\u001b[0;34m()\u001b[0m\n\u001b[1;32m     65\u001b[0m     \u001b[0;31m#X = data[completar]\u001b[0m\u001b[0;34m\u001b[0m\u001b[0;34m\u001b[0m\u001b[0m\n\u001b[1;32m     66\u001b[0m     \u001b[0;31m#y = data[completar]\u001b[0m\u001b[0;34m\u001b[0m\u001b[0;34m\u001b[0m\u001b[0m\n\u001b[0;32m---> 67\u001b[0;31m     \u001b[0mcoef\u001b[0m \u001b[0;34m=\u001b[0m \u001b[0mregresion_manual\u001b[0m\u001b[0;34m(\u001b[0m\u001b[0mX\u001b[0m\u001b[0;34m,\u001b[0m \u001b[0my\u001b[0m\u001b[0;34m)\u001b[0m\u001b[0;34m\u001b[0m\u001b[0;34m\u001b[0m\u001b[0m\n\u001b[0m\u001b[1;32m     68\u001b[0m     \u001b[0mprint\u001b[0m\u001b[0;34m(\u001b[0m \u001b[0mcoef\u001b[0m\u001b[0;34m)\u001b[0m\u001b[0;34m\u001b[0m\u001b[0;34m\u001b[0m\u001b[0m\n\u001b[1;32m     69\u001b[0m     \u001b[0my_pred\u001b[0m \u001b[0;34m=\u001b[0m \u001b[0mpredecir\u001b[0m\u001b[0;34m(\u001b[0m\u001b[0mX\u001b[0m\u001b[0;34m,\u001b[0m\u001b[0mcoef\u001b[0m\u001b[0;34m)\u001b[0m\u001b[0;34m\u001b[0m\u001b[0;34m\u001b[0m\u001b[0m\n",
            "\u001b[0;32m<ipython-input-13-84e19aa3f0bb>\u001b[0m in \u001b[0;36mregresion_manual\u001b[0;34m(X, y)\u001b[0m\n\u001b[1;32m     10\u001b[0m \u001b[0;31m#    coeficientes =\u001b[0m\u001b[0;34m\u001b[0m\u001b[0;34m\u001b[0m\u001b[0m\n\u001b[1;32m     11\u001b[0m \u001b[0;34m\u001b[0m\u001b[0m\n\u001b[0;32m---> 12\u001b[0;31m     \u001b[0;32mreturn\u001b[0m \u001b[0mcoeficientes\u001b[0m\u001b[0;34m\u001b[0m\u001b[0;34m\u001b[0m\u001b[0m\n\u001b[0m\u001b[1;32m     13\u001b[0m \u001b[0;34m\u001b[0m\u001b[0m\n\u001b[1;32m     14\u001b[0m \u001b[0;31m# Función para predecir los valores de y\u001b[0m\u001b[0;34m\u001b[0m\u001b[0;34m\u001b[0m\u001b[0m\n",
            "\u001b[0;31mNameError\u001b[0m: name 'coeficientes' is not defined"
          ]
        }
      ]
    }
  ]
}